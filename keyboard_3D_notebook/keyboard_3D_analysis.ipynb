{
 "cells": [
  {
   "cell_type": "code",
   "execution_count": 86,
   "metadata": {},
   "outputs": [
    {
     "data": {
      "text/html": [
       "<script type=\"text/javascript\">window.PlotlyConfig = {MathJaxConfig: 'local'};</script><script type=\"text/javascript\">if (window.MathJax) {MathJax.Hub.Config({SVG: {font: \"STIX-Web\"}});}</script><script>requirejs.config({paths: { 'plotly': ['https://cdn.plot.ly/plotly-latest.min']},});if(!window._Plotly) {require(['plotly'],function(plotly) {window._Plotly=plotly;});}</script>"
      ],
      "text/vnd.plotly.v1+html": [
       "<script type=\"text/javascript\">window.PlotlyConfig = {MathJaxConfig: 'local'};</script><script type=\"text/javascript\">if (window.MathJax) {MathJax.Hub.Config({SVG: {font: \"STIX-Web\"}});}</script><script>requirejs.config({paths: { 'plotly': ['https://cdn.plot.ly/plotly-latest.min']},});if(!window._Plotly) {require(['plotly'],function(plotly) {window._Plotly=plotly;});}</script>"
      ]
     },
     "metadata": {},
     "output_type": "display_data"
    }
   ],
   "source": [
    "import numpy as np\n",
    "import collections\n",
    "import matplotlib.pyplot as plt\n",
    "import scipy\n",
    "from scipy import interpolate, integrate\n",
    "import plotly\n",
    "import plotly.graph_objs as go\n",
    "\n",
    "plotly.offline.init_notebook_mode(connected = True)"
   ]
  },
  {
   "cell_type": "code",
   "execution_count": 3,
   "metadata": {},
   "outputs": [
    {
     "name": "stdout",
     "output_type": "stream",
     "text": [
      "{'a': array([170.425, 387.075]), 'b': array([1151.92307692,  670.84615385]), 'c': array([761.85714286, 633.28571429]), 'd': array([572.37037037, 409.55555556]), 'e': array([483.875, 159.   ]), 'f': array([767.66666667, 420.79166667]), 'g': array([946.76923077, 441.84615385]), 'h': array([1164.66666667,  440.22222222]), 'i': array([1440.48148148,  176.46296296]), 'j': array([1358.83333333,  432.27777778]), 'k': array([1556.94736842,  430.05263158]), 'l': array([1758.77049444,  400.16208222]), 'm': array([1537.86956522,  642.43478261]), 'n': array([1339.  ,  644.04]), 'o': array([1629.2       ,  187.66666667]), 'p': array([1807.52,  199.24]), 'q': array([ 95.36363636, 159.27272727]), 'r': array([671.625, 181.875]), 's': array([376.66666667, 386.16666667]), 't': array([850.21153846, 191.86489365]), 'u': array([1241.29166667,  184.33333333]), 'v': array([936.18181818, 652.59090909]), 'w': array([275.26470588, 170.38235294]), 'x': array([578.55555556, 635.22222222]), 'y': array([1051.93478261,  188.93478261]), 'z': array([367.4, 618.6])}\n"
     ]
    }
   ],
   "source": [
    "# Read coordinates of characters from txt\n",
    "\n",
    "char_pos_dict = {}\n",
    "\n",
    "with open(\"keyboard_data.txt\", 'r') as f:\n",
    "    for line in f:\n",
    "        pos_x, pos_y, char = line.split()\n",
    "        char_pos_dict[char] = np.array([float(pos_x), float(pos_y)])\n",
    "        \n",
    "    print(char_pos_dict)"
   ]
  },
  {
   "cell_type": "code",
   "execution_count": 28,
   "metadata": {},
   "outputs": [
    {
     "name": "stdout",
     "output_type": "stream",
     "text": [
      "Characters to sections: defaultdict(<class 'int'>, {'a': 0, 'b': 1, 'c': 0, 'd': 0, 'e': 0, 'f': 0, 'g': 2, 'h': 1, 'i': 1, 'j': 1, 'k': 1, 'l': 1, 'm': 1, 'n': 1, 'o': 1, 'p': 1, 'q': 0, 'r': 0, 's': 0, 't': 0, 'u': 1, 'v': 2, 'w': 0, 'x': 0, 'y': 1, 'z': 0})\n",
      "Initial thumb positions: [[ 497.60677357  362.75764994]\n",
      " [1419.86986965  383.05611632]]\n"
     ]
    },
    {
     "data": {
      "image/png": "[encoded data removed]",
      "text/plain": [
       "<Figure size 432x288 with 1 Axes>"
      ]
     },
     "metadata": {
      "needs_background": "light"
     },
     "output_type": "display_data"
    }
   ],
   "source": [
    "# Divide into left, right and middle sections of keyboard\n",
    "\n",
    "left_keys = set(list(\"qwertasdfzxc\"))\n",
    "right_keys = set(list(\"yuiophjklbnm\"))\n",
    "middle_keys = set(list(\"gv\"))\n",
    "\n",
    "keyboard_sections = [left_keys, right_keys, middle_keys]\n",
    "\n",
    "char_section_dict = collections.defaultdict(int)\n",
    "for char_ascii in range(26):\n",
    "    char = chr(ord(\"a\") + char_ascii)\n",
    "    for ind, section in enumerate(keyboard_sections):\n",
    "        if char in section:\n",
    "            char_section_dict[char] = ind\n",
    "            break\n",
    "print(\"Characters to sections: {}\".format(char_section_dict))\n",
    "\n",
    "# Initialize left thumb and right thumb positions\n",
    "left_mean = np.mean(np.array([char_pos_dict[char] for char in left_keys]), axis = 0)\n",
    "right_mean =  np.mean(np.array([char_pos_dict[char] for char in right_keys]), axis = 0)\n",
    "\n",
    "thumbs_pos = np.array([left_mean, right_mean])\n",
    "print(\"Initial thumb positions: {}\". format(thumbs_pos))\n",
    "\n",
    "for char in char_pos_dict:\n",
    "    plt.plot(char_pos_dict[char][0], char_pos_dict[char][1], \"ro\")\n",
    "\n",
    "for pos_x, pos_y in thumbs_pos:\n",
    "    plt.plot(pos_x, pos_y, \"bo\")\n",
    "\n",
    "plt.plot([0,0,1920,1920],[0,1080,0,1080], \"go\")    \n",
    "plt.gca().invert_yaxis()"
   ]
  },
  {
   "cell_type": "code",
   "execution_count": 5,
   "metadata": {},
   "outputs": [],
   "source": [
    "# Read passages from txt and remove non-alphabetical characters\n",
    "cleaned_passage = []\n",
    "with open(\"pride_and_prejudice.txt\", 'r') as f:\n",
    "    for line in f:\n",
    "        for char in line:\n",
    "            if char.isalpha():\n",
    "                cleaned_passage.append(char.lower())"
   ]
  },
  {
   "cell_type": "code",
   "execution_count": 6,
   "metadata": {},
   "outputs": [
    {
     "name": "stdout",
     "output_type": "stream",
     "text": [
      "Total distance when typing with one hand: 9006853.584351972\n"
     ]
    }
   ],
   "source": [
    "# Assume first order relations between buttons and type with only one hand\n",
    "first_order_count = np.array([[0 for i in range(26)] for j in range(26)])\n",
    "\n",
    "for ind in range(len(cleaned_passage) - 1):\n",
    "    first_order_count[ord(cleaned_passage[ind]) - ord('a')][ord(cleaned_passage[ind+1]) - ord('a')] += 1\n",
    "\n",
    "total_dist = 0\n",
    "\n",
    "for i in range(26):\n",
    "    for j in range(26):\n",
    "        pos1, pos2 = char_pos_dict[chr(i + ord('a'))], char_pos_dict[chr(j + ord('a'))]\n",
    "        total_dist += np.linalg.norm(pos1 - pos2) * first_order_count[i][j]\n",
    "        \n",
    "print(\"Total distance when typing with one hand: {}\".format(total_dist))\n",
    "    "
   ]
  },
  {
   "cell_type": "code",
   "execution_count": 7,
   "metadata": {},
   "outputs": [],
   "source": [
    "# Assume first order relations and type with two hands, one responsible for each side\n",
    "prev_char = [None, None]\n",
    "total_dist = [0, 0]  "
   ]
  },
  {
   "cell_type": "code",
   "execution_count": 146,
   "metadata": {},
   "outputs": [
    {
     "name": "stdout",
     "output_type": "stream",
     "text": [
      "Calculated curve_length: 970.5191693952926\n",
      "Numerical error: 4.265455722429205e-06\n"
     ]
    },
    {
     "data": {
      "image/png": "[encoded data removed]",
      "text/plain": [
       "<Figure size 432x288 with 1 Axes>"
      ]
     },
     "metadata": {
      "needs_background": "light"
     },
     "output_type": "display_data"
    }
   ],
   "source": [
    "# Decide number of control points to define the curve (probably 1D curve first)\n",
    "dof = 5\n",
    "max_height = 50\n",
    "# Since the keyboard is symmetric, we only need to define half of the keyboard.\n",
    "inpl_h, inpl_w = 1080*3/4, 1920/2\n",
    "# Use B-spline to fit the points (to get a smooth surface)\n",
    "inpl_x = np.array(list(range(0, dof + 1))) / dof * inpl_w\n",
    "inpl_y = np.random.rand(dof + 1) * max_height\n",
    "inpl_y[0] = 0\n",
    "\n",
    "# Interpolate with B-spline\n",
    "tck = interpolate.splrep(inpl_x, inpl_y, s = 0)\n",
    "xnew = np.linspace(0, inpl_w, int(inpl_w))\n",
    "ynew = interpolate.splev(xnew, tck, der = 0)\n",
    "\n",
    "plt.plot(inpl_x, inpl_y, 'ro', xnew, ynew, 'b') \n",
    "\n",
    "# Find length of spline by numerical integration\n",
    "# Normalize movement in x direction by curve length to ensure the final lengh\n",
    "length_integral = lambda x: np.sqrt(1 + interpolate.splev(x, tck, der = 1) ** 2)\n",
    "curve_length, error = scipy.integrate.quad(length_integral, 0, inpl_w)\n",
    "print(\"Calculated curve_length: {}\".format(curve_length))\n",
    "print(\"Numerical error: {}\".format(error))\n",
    "# Option 1. constraint the total length to be 1920 or Option 2 only constrain the coordinates of points\n",
    "# project points back onto the curve\n",
    "# for option 1. project onto curve using length\n",
    "# optimize the height of the points to reduce the movement of the thumbs\n"
   ]
  },
  {
   "cell_type": "code",
   "execution_count": 83,
   "metadata": {},
   "outputs": [],
   "source": [
    "#TODO: plotly 3d lot does not work\n",
    "def plotMeshShape(x,spline):\n",
    "    \n",
    "    y = np.arange(0, inpl_h)\n",
    "    X, Y = np.meshgrid(x,y)\n",
    "    Z = interpolate.splev(X, tck, der = 0)\n",
    "    trace = go.Mesh3d(x = X.flatten(), y= Y.flatten(), z= Z.flatten())\n",
    "    #plotly.offline.plot([trace])\n",
    "plotMeshShape(xnew,tck)"
   ]
  },
  {
   "cell_type": "code",
   "execution_count": null,
   "metadata": {},
   "outputs": [],
   "source": []
  },
  {
   "cell_type": "code",
   "execution_count": null,
   "metadata": {},
   "outputs": [],
   "source": []
  }
 ],
 "metadata": {
  "kernelspec": {
   "display_name": "Python 3",
   "language": "python",
   "name": "python3"
  },
  "language_info": {
   "codemirror_mode": {
    "name": "ipython",
    "version": 3
   },
   "file_extension": ".py",
   "mimetype": "text/x-python",
   "name": "python",
   "nbconvert_exporter": "python",
   "pygments_lexer": "ipython3",
   "version": "3.7.1"
  }
 },
 "nbformat": 4,
 "nbformat_minor": 1
}
